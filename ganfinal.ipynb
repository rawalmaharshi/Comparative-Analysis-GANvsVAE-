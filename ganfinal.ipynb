{
  "nbformat": 4,
  "nbformat_minor": 0,
  "metadata": {
    "accelerator": "GPU",
    "colab": {
      "name": "gandec12.ipynb",
      "provenance": [],
      "collapsed_sections": []
    },
    "kernelspec": {
      "display_name": "Python 3",
      "name": "python3"
    }
  },
  "cells": [
    {
      "cell_type": "code",
      "metadata": {
        "id": "HOFB7jMXDxjG"
      },
      "source": [
        "# prerequisites\n",
        "import torch\n",
        "import torch.nn as nn\n",
        "import torch.nn.functional as F\n",
        "import torch.optim as optim\n",
        "from torchvision import datasets, transforms\n",
        "from torch.autograd import Variable\n",
        "from torchvision.utils import save_image\n",
        "\n",
        "# Device configuration\n",
        "device = torch.device('cuda' if torch.cuda.is_available() else 'cpu')"
      ],
      "execution_count": 51,
      "outputs": []
    },
    {
      "cell_type": "code",
      "metadata": {
        "id": "JetAOkW7D6KR"
      },
      "source": [
        "bs = 100\n",
        "\n",
        "# MNIST Dataset\n",
        "transform = transforms.Compose([\n",
        "    transforms.ToTensor(),\n",
        "    transforms.Normalize([0.5], [0.5])])\n",
        "\n",
        "train_dataset = datasets.MNIST(root='./mnist_data/', train=True, transform=transform, download=True)\n",
        "test_dataset = datasets.MNIST(root='./mnist_data/', train=False, transform=transform, download=False)\n",
        "\n",
        "# Data Loader (Input Pipeline)\n",
        "train_loader = torch.utils.data.DataLoader(dataset=train_dataset, batch_size=bs, shuffle=True)\n",
        "test_loader = torch.utils.data.DataLoader(dataset=test_dataset, batch_size=bs, shuffle=False)"
      ],
      "execution_count": 52,
      "outputs": []
    },
    {
      "cell_type": "code",
      "metadata": {
        "id": "3-P72EK4D_Tj"
      },
      "source": [
        "class Generator(nn.Module):\n",
        "    def __init__(self, g_input_dim, g_output_dim):\n",
        "        super(Generator, self).__init__()       \n",
        "        self.fc1 = nn.Linear(g_input_dim, 256)\n",
        "        self.fc2 = nn.Linear(self.fc1.out_features, self.fc1.out_features*2)\n",
        "        self.fc3 = nn.Linear(self.fc2.out_features, self.fc2.out_features*2)\n",
        "        self.fc4 = nn.Linear(self.fc3.out_features, g_output_dim)\n",
        "    \n",
        "    # forward method\n",
        "    def forward(self, x): \n",
        "        x = F.leaky_relu(self.fc1(x), 0.2)\n",
        "        x = F.leaky_relu(self.fc2(x), 0.2)\n",
        "        x = F.leaky_relu(self.fc3(x), 0.2)\n",
        "        return torch.tanh(self.fc4(x))\n",
        "    \n",
        "class Discriminator(nn.Module):\n",
        "    def __init__(self, d_input_dim):\n",
        "        super(Discriminator, self).__init__()\n",
        "        self.fc1 = nn.Linear(d_input_dim, 1024)\n",
        "        self.fc2 = nn.Linear(self.fc1.out_features, self.fc1.out_features//2)\n",
        "        self.fc3 = nn.Linear(self.fc2.out_features, self.fc2.out_features//2)\n",
        "        self.fc4 = nn.Linear(self.fc3.out_features, 1)\n",
        "    \n",
        "    # forward method\n",
        "    def forward(self, x):\n",
        "        x = F.leaky_relu(self.fc1(x), 0.2)\n",
        "        x = F.dropout(x, 0.3)\n",
        "        x = F.leaky_relu(self.fc2(x), 0.2)\n",
        "        x = F.dropout(x, 0.3)\n",
        "        x = F.leaky_relu(self.fc3(x), 0.2)\n",
        "        x = F.dropout(x, 0.3)\n",
        "        return torch.sigmoid(self.fc4(x))"
      ],
      "execution_count": 53,
      "outputs": []
    },
    {
      "cell_type": "code",
      "metadata": {
        "id": "4v_6fL_7EDER",
        "colab": {
          "base_uri": "https://localhost:8080/"
        },
        "outputId": "b57b10f6-920d-4d18-bc2a-b8a4ed9a806e"
      },
      "source": [
        "# build network\n",
        "z_dim = 100\n",
        "mnist_dim = train_dataset.data.size(1) * train_dataset.data.size(2)\n",
        "\n",
        "G = Generator(g_input_dim = z_dim, g_output_dim = mnist_dim).to(device)\n",
        "D = Discriminator(mnist_dim).to(device)\n",
        "print(G)\n",
        "print()\n",
        "print(D)"
      ],
      "execution_count": 54,
      "outputs": [
        {
          "output_type": "stream",
          "text": [
            "Generator(\n",
            "  (fc1): Linear(in_features=100, out_features=256, bias=True)\n",
            "  (fc2): Linear(in_features=256, out_features=512, bias=True)\n",
            "  (fc3): Linear(in_features=512, out_features=1024, bias=True)\n",
            "  (fc4): Linear(in_features=1024, out_features=784, bias=True)\n",
            ")\n",
            "\n",
            "Discriminator(\n",
            "  (fc1): Linear(in_features=784, out_features=1024, bias=True)\n",
            "  (fc2): Linear(in_features=1024, out_features=512, bias=True)\n",
            "  (fc3): Linear(in_features=512, out_features=256, bias=True)\n",
            "  (fc4): Linear(in_features=256, out_features=1, bias=True)\n",
            ")\n"
          ],
          "name": "stdout"
        }
      ]
    },
    {
      "cell_type": "code",
      "metadata": {
        "id": "UL4ExgvyEQVD"
      },
      "source": [
        "# loss\n",
        "criterion = nn.BCELoss() \n",
        "\n",
        "# optimizer\n",
        "lr = 0.0002 \n",
        "G_optimizer = optim.Adam(G.parameters(), lr = lr)\n",
        "D_optimizer = optim.Adam(D.parameters(), lr = lr)"
      ],
      "execution_count": 55,
      "outputs": []
    },
    {
      "cell_type": "code",
      "metadata": {
        "id": "XgmphEfPEWgF"
      },
      "source": [
        "import pickle as pkl\n",
        "\n",
        "def D_train(x):\n",
        "    #=======================Train the discriminator=======================#\n",
        "    D.zero_grad()\n",
        "\n",
        "    # train discriminator on real\n",
        "    x_real, y_real = x.view(-1, mnist_dim), torch.ones(bs, 1)\n",
        "    x_real, y_real = Variable(x_real.to(device)), Variable(y_real.to(device))\n",
        "\n",
        "    D_output = D(x_real)\n",
        "    D_real_loss = criterion(D_output, y_real)\n",
        "    D_real_score = D_output\n",
        "\n",
        "    # train discriminator on facke\n",
        "    z = Variable(torch.randn(bs, z_dim).to(device))\n",
        "    x_fake, y_fake = G(z), Variable(torch.zeros(bs, 1).to(device))\n",
        "\n",
        "    D_output = D(x_fake)\n",
        "    D_fake_loss = criterion(D_output, y_fake)\n",
        "    D_fake_score = D_output\n",
        "\n",
        "    # gradient backprop & optimize ONLY D's parameters\n",
        "    D_loss = D_real_loss + D_fake_loss\n",
        "    D_loss.backward()\n",
        "    D_optimizer.step()\n",
        "        \n",
        "    return  D_loss.data.item()"
      ],
      "execution_count": 56,
      "outputs": []
    },
    {
      "cell_type": "code",
      "metadata": {
        "id": "cb8yc54JEm-S"
      },
      "source": [
        "def G_train(x):\n",
        "    #=======================Train the generator=======================#\n",
        "    G.zero_grad()\n",
        "\n",
        "    z = Variable(torch.randn(bs, z_dim).to(device))\n",
        "    y = Variable(torch.ones(bs, 1).to(device))\n",
        "\n",
        "    G_output = G(z)\n",
        "    D_output = D(G_output)\n",
        "    G_loss = criterion(D_output, y)\n",
        "\n",
        "    # gradient backprop & optimize ONLY G's parameters\n",
        "    G_loss.backward()\n",
        "    G_optimizer.step()\n",
        "        \n",
        "    return G_loss.data.item()"
      ],
      "execution_count": 57,
      "outputs": []
    },
    {
      "cell_type": "code",
      "metadata": {
        "id": "XdBEJAA_oiYo"
      },
      "source": [
        ""
      ],
      "execution_count": 57,
      "outputs": []
    },
    {
      "cell_type": "code",
      "metadata": {
        "colab": {
          "base_uri": "https://localhost:8080/"
        },
        "id": "wc9UA7-lEq_I",
        "outputId": "ad2b8d35-6dc3-40bd-a5d4-bb8d95bb4c2b"
      },
      "source": [
        "n_epoch = 100\n",
        "for epoch in range(1, n_epoch+1):           \n",
        "    D_losses, G_losses = [], []\n",
        "    for batch_idx, (x, _) in enumerate(train_loader):\n",
        "        D_losses.append(D_train(x))\n",
        "        G_losses.append(G_train(x))\n",
        "\n",
        "    print('[%d/%d]: loss_d: %.3f, loss_g: %.3f' % (\n",
        "            (epoch), n_epoch, torch.mean(torch.FloatTensor(D_losses)), torch.mean(torch.FloatTensor(G_losses))))"
      ],
      "execution_count": 58,
      "outputs": [
        {
          "output_type": "stream",
          "text": [
            "[1/100]: loss_d: 0.671, loss_g: 4.347\n",
            "[2/100]: loss_d: 0.925, loss_g: 2.940\n",
            "[3/100]: loss_d: 0.806, loss_g: 2.057\n",
            "[4/100]: loss_d: 0.487, loss_g: 2.821\n",
            "[5/100]: loss_d: 0.456, loss_g: 3.067\n",
            "[6/100]: loss_d: 0.453, loss_g: 3.169\n",
            "[7/100]: loss_d: 0.514, loss_g: 2.882\n",
            "[8/100]: loss_d: 0.566, loss_g: 2.660\n",
            "[9/100]: loss_d: 0.589, loss_g: 2.630\n",
            "[10/100]: loss_d: 0.622, loss_g: 2.433\n",
            "[11/100]: loss_d: 0.664, loss_g: 2.190\n",
            "[12/100]: loss_d: 0.706, loss_g: 2.202\n",
            "[13/100]: loss_d: 0.747, loss_g: 2.026\n",
            "[14/100]: loss_d: 0.781, loss_g: 1.946\n",
            "[15/100]: loss_d: 0.766, loss_g: 1.985\n",
            "[16/100]: loss_d: 0.808, loss_g: 1.866\n",
            "[17/100]: loss_d: 0.802, loss_g: 1.885\n",
            "[18/100]: loss_d: 0.793, loss_g: 1.860\n",
            "[19/100]: loss_d: 0.825, loss_g: 1.816\n",
            "[20/100]: loss_d: 0.912, loss_g: 1.602\n",
            "[21/100]: loss_d: 0.869, loss_g: 1.669\n",
            "[22/100]: loss_d: 0.917, loss_g: 1.598\n",
            "[23/100]: loss_d: 0.911, loss_g: 1.597\n",
            "[24/100]: loss_d: 0.914, loss_g: 1.604\n",
            "[25/100]: loss_d: 0.913, loss_g: 1.607\n",
            "[26/100]: loss_d: 0.935, loss_g: 1.547\n",
            "[27/100]: loss_d: 0.944, loss_g: 1.517\n",
            "[28/100]: loss_d: 0.995, loss_g: 1.419\n",
            "[29/100]: loss_d: 0.975, loss_g: 1.459\n",
            "[30/100]: loss_d: 0.994, loss_g: 1.434\n",
            "[31/100]: loss_d: 1.005, loss_g: 1.402\n",
            "[32/100]: loss_d: 1.031, loss_g: 1.344\n",
            "[33/100]: loss_d: 1.041, loss_g: 1.310\n",
            "[34/100]: loss_d: 1.066, loss_g: 1.279\n",
            "[35/100]: loss_d: 1.049, loss_g: 1.300\n",
            "[36/100]: loss_d: 1.088, loss_g: 1.237\n",
            "[37/100]: loss_d: 1.077, loss_g: 1.260\n",
            "[38/100]: loss_d: 1.087, loss_g: 1.233\n",
            "[39/100]: loss_d: 1.101, loss_g: 1.204\n",
            "[40/100]: loss_d: 1.101, loss_g: 1.204\n",
            "[41/100]: loss_d: 1.092, loss_g: 1.227\n",
            "[42/100]: loss_d: 1.110, loss_g: 1.184\n",
            "[43/100]: loss_d: 1.116, loss_g: 1.177\n",
            "[44/100]: loss_d: 1.141, loss_g: 1.112\n",
            "[45/100]: loss_d: 1.150, loss_g: 1.127\n",
            "[46/100]: loss_d: 1.139, loss_g: 1.124\n",
            "[47/100]: loss_d: 1.164, loss_g: 1.092\n",
            "[48/100]: loss_d: 1.162, loss_g: 1.093\n",
            "[49/100]: loss_d: 1.154, loss_g: 1.111\n",
            "[50/100]: loss_d: 1.164, loss_g: 1.095\n",
            "[51/100]: loss_d: 1.172, loss_g: 1.080\n",
            "[52/100]: loss_d: 1.165, loss_g: 1.088\n",
            "[53/100]: loss_d: 1.170, loss_g: 1.078\n",
            "[54/100]: loss_d: 1.166, loss_g: 1.084\n",
            "[55/100]: loss_d: 1.198, loss_g: 1.032\n",
            "[56/100]: loss_d: 1.182, loss_g: 1.064\n",
            "[57/100]: loss_d: 1.174, loss_g: 1.069\n",
            "[58/100]: loss_d: 1.178, loss_g: 1.055\n",
            "[59/100]: loss_d: 1.196, loss_g: 1.041\n",
            "[60/100]: loss_d: 1.188, loss_g: 1.036\n",
            "[61/100]: loss_d: 1.204, loss_g: 1.021\n",
            "[62/100]: loss_d: 1.199, loss_g: 1.017\n",
            "[63/100]: loss_d: 1.208, loss_g: 1.006\n",
            "[64/100]: loss_d: 1.214, loss_g: 0.992\n",
            "[65/100]: loss_d: 1.207, loss_g: 1.017\n",
            "[66/100]: loss_d: 1.206, loss_g: 1.016\n",
            "[67/100]: loss_d: 1.215, loss_g: 1.008\n",
            "[68/100]: loss_d: 1.211, loss_g: 1.002\n",
            "[69/100]: loss_d: 1.216, loss_g: 1.004\n",
            "[70/100]: loss_d: 1.217, loss_g: 0.991\n",
            "[71/100]: loss_d: 1.226, loss_g: 0.979\n",
            "[72/100]: loss_d: 1.220, loss_g: 1.004\n",
            "[73/100]: loss_d: 1.221, loss_g: 0.988\n",
            "[74/100]: loss_d: 1.228, loss_g: 0.978\n",
            "[75/100]: loss_d: 1.226, loss_g: 0.977\n",
            "[76/100]: loss_d: 1.226, loss_g: 0.974\n",
            "[77/100]: loss_d: 1.231, loss_g: 0.983\n",
            "[78/100]: loss_d: 1.231, loss_g: 0.982\n",
            "[79/100]: loss_d: 1.239, loss_g: 0.962\n",
            "[80/100]: loss_d: 1.252, loss_g: 0.939\n",
            "[81/100]: loss_d: 1.231, loss_g: 0.968\n",
            "[82/100]: loss_d: 1.236, loss_g: 0.958\n",
            "[83/100]: loss_d: 1.234, loss_g: 0.966\n",
            "[84/100]: loss_d: 1.230, loss_g: 0.974\n",
            "[85/100]: loss_d: 1.227, loss_g: 0.975\n",
            "[86/100]: loss_d: 1.231, loss_g: 0.979\n",
            "[87/100]: loss_d: 1.244, loss_g: 0.955\n",
            "[88/100]: loss_d: 1.230, loss_g: 0.969\n",
            "[89/100]: loss_d: 1.243, loss_g: 0.945\n",
            "[90/100]: loss_d: 1.243, loss_g: 0.962\n",
            "[91/100]: loss_d: 1.235, loss_g: 0.966\n",
            "[92/100]: loss_d: 1.241, loss_g: 0.948\n",
            "[93/100]: loss_d: 1.246, loss_g: 0.943\n",
            "[94/100]: loss_d: 1.251, loss_g: 0.940\n",
            "[95/100]: loss_d: 1.245, loss_g: 0.940\n",
            "[96/100]: loss_d: 1.254, loss_g: 0.931\n",
            "[97/100]: loss_d: 1.255, loss_g: 0.934\n",
            "[98/100]: loss_d: 1.249, loss_g: 0.944\n",
            "[99/100]: loss_d: 1.254, loss_g: 0.944\n",
            "[100/100]: loss_d: 1.255, loss_g: 0.930\n"
          ],
          "name": "stdout"
        }
      ]
    },
    {
      "cell_type": "code",
      "metadata": {
        "id": "RUK03VWcTZl0"
      },
      "source": [
        "with torch.no_grad():\n",
        "    test_z = Variable(torch.randn(bs, z_dim).to(device))\n",
        "    generated = G(test_z)\n",
        "    save_image(generated.view(generated.size(0), 1, 28, 28), '_' + '.png')\n"
      ],
      "execution_count": 63,
      "outputs": []
    },
    {
      "cell_type": "code",
      "metadata": {
        "colab": {
          "base_uri": "https://localhost:8080/",
          "height": 409
        },
        "id": "bfdL_ExvVj1G",
        "outputId": "1930f878-22a7-4529-a8df-7b3debe4aa09"
      },
      "source": [
        "import matplotlib.pyplot as plt\n",
        "%matplotlib inline\n",
        "from IPython.display import Image\n",
        "Image('_.png')"
      ],
      "execution_count": 64,
      "outputs": [
        {
          "output_type": "execute_result",
          "data": {
            "image/png": "[encoded data removed]",
            "text/plain": [
              "<IPython.core.display.Image object>"
            ]
          },
          "metadata": {
            "tags": []
          },
          "execution_count": 64
        }
      ]
    },
    {
      "cell_type": "code",
      "metadata": {
        "id": "N4_zGpF3v1jt"
      },
      "source": [
        "def view_samples(epoch, samples):\n",
        "    fig, axes = plt.subplots(figsize=(7,7), nrows=4, ncols=4, sharey=True, sharex=True)\n",
        "    for ax, img in zip(axes.flatten(), samples[epoch]):\n",
        "        img = img.detach()\n",
        "        ax.xaxis.set_visible(False)\n",
        "        ax.yaxis.set_visible(False)\n",
        "        im = ax.imshow(img.reshape((28,28)), cmap='Greys_r')"
      ],
      "execution_count": 65,
      "outputs": []
    },
    {
      "cell_type": "code",
      "metadata": {
        "id": "AhYXezovv6ja"
      },
      "source": [
        "import matplotlib.pyplot as plt\n",
        "%matplotlib inline\n",
        "from IPython.display import Image\n",
        "samples = Image('_.png')"
      ],
      "execution_count": 66,
      "outputs": []
    }
  ]
}